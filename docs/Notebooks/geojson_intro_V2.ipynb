{
 "cells": [
  {
   "cell_type": "code",
   "execution_count": 3,
   "id": "waiting-champion",
   "metadata": {},
   "outputs": [],
   "source": [
    "import geodemo_zw\n",
    "import os"
   ]
  },
  {
   "cell_type": "code",
   "execution_count": 4,
   "id": "advanced-scott",
   "metadata": {},
   "outputs": [],
   "source": [
    "in_shp=\"./data/boundary1.shp\""
   ]
  },
  {
   "cell_type": "code",
   "execution_count": 5,
   "id": "auburn-implementation",
   "metadata": {},
   "outputs": [],
   "source": [
    "# out_geojson = \"./data/output/out.geojson\""
   ]
  },
  {
   "cell_type": "code",
   "execution_count": 6,
   "id": "sunset-mediterranean",
   "metadata": {},
   "outputs": [],
   "source": [
    "# geojson = geodemo_zw.shp_to_geojson(in_shp, out_geojson)"
   ]
  },
  {
   "cell_type": "code",
   "execution_count": 7,
   "id": "dedicated-charge",
   "metadata": {},
   "outputs": [
    {
     "data": {
      "application/vnd.jupyter.widget-view+json": {
       "model_id": "097c585f97f844ca9d1b684a95933290",
       "version_major": 2,
       "version_minor": 0
      },
      "text/plain": [
       "Map(center=[45.04876893, -89.23324673], controls=(ZoomControl(options=['position', 'zoom_in_text', 'zoom_in_ti…"
      ]
     },
     "metadata": {},
     "output_type": "display_data"
    }
   ],
   "source": [
    "m = geodemo_zw.Map()\n",
    "m"
   ]
  },
  {
   "cell_type": "code",
   "execution_count": null,
   "id": "honey-violin",
   "metadata": {},
   "outputs": [],
   "source": [
    "# m.add_geojson(geojson)"
   ]
  },
  {
   "cell_type": "code",
   "execution_count": 8,
   "id": "invisible-residence",
   "metadata": {},
   "outputs": [],
   "source": [
    "m.add_shp(in_shp, layer_name = 'shapefile')"
   ]
  },
  {
   "cell_type": "code",
   "execution_count": null,
   "id": "played-instrument",
   "metadata": {},
   "outputs": [],
   "source": []
  },
  {
   "cell_type": "code",
   "execution_count": null,
   "id": "worse-aggregate",
   "metadata": {},
   "outputs": [],
   "source": []
  },
  {
   "cell_type": "code",
   "execution_count": null,
   "id": "earned-charm",
   "metadata": {},
   "outputs": [],
   "source": []
  },
  {
   "cell_type": "code",
   "execution_count": null,
   "id": "further-landscape",
   "metadata": {},
   "outputs": [],
   "source": []
  },
  {
   "cell_type": "code",
   "execution_count": null,
   "id": "constant-pharmacy",
   "metadata": {},
   "outputs": [],
   "source": []
  }
 ],
 "metadata": {
  "kernelspec": {
   "display_name": "Python 3",
   "language": "python",
   "name": "python3"
  },
  "language_info": {
   "codemirror_mode": {
    "name": "ipython",
    "version": 3
   },
   "file_extension": ".py",
   "mimetype": "text/x-python",
   "name": "python",
   "nbconvert_exporter": "python",
   "pygments_lexer": "ipython3",
   "version": "3.8.8"
  }
 },
 "nbformat": 4,
 "nbformat_minor": 5
}
