{
 "cells": [
  {
   "cell_type": "code",
   "execution_count": 1,
   "id": "hidden-spouse",
   "metadata": {},
   "outputs": [],
   "source": [
    "import geodemo_zw"
   ]
  },
  {
   "cell_type": "code",
   "execution_count": 2,
   "id": "ideal-string",
   "metadata": {},
   "outputs": [],
   "source": [
    "m = geodemo_zw.Map()"
   ]
  },
  {
   "cell_type": "code",
   "execution_count": 3,
   "id": "bound-nightmare",
   "metadata": {},
   "outputs": [
    {
     "data": {
      "application/vnd.jupyter.widget-view+json": {
       "model_id": "3eb497f9984f41e996bf2dbb05ae76c5",
       "version_major": 2,
       "version_minor": 0
      },
      "text/plain": [
       "Map(center=[45.04876893, -89.23324673], controls=(ZoomControl(options=['position', 'zoom_in_text', 'zoom_in_ti…"
      ]
     },
     "metadata": {},
     "output_type": "display_data"
    }
   ],
   "source": [
    "m"
   ]
  },
  {
   "cell_type": "code",
   "execution_count": 14,
   "id": "interesting-intellectual",
   "metadata": {},
   "outputs": [],
   "source": [
    "in_geojson=\"./data/targets1.geojson\""
   ]
  },
  {
   "cell_type": "code",
   "execution_count": 15,
   "id": "circular-alarm",
   "metadata": {},
   "outputs": [],
   "source": [
    "# m.add_geojson(in_geojson, layer_name=\"targets\")"
   ]
  },
  {
   "cell_type": "code",
   "execution_count": 6,
   "id": "arabic-enclosure",
   "metadata": {},
   "outputs": [],
   "source": [
    "boundary = \"./data/boundary.geojson\"\n",
    "m.add_geojson(boundary, layer_name=\"boundary\")"
   ]
  },
  {
   "cell_type": "code",
   "execution_count": 11,
   "id": "solid-perfume",
   "metadata": {},
   "outputs": [],
   "source": [
    "in_shp=\"./data/boundary1.shp\""
   ]
  },
  {
   "cell_type": "code",
   "execution_count": 12,
   "id": "everyday-economy",
   "metadata": {},
   "outputs": [
    {
     "data": {
      "text/plain": [
       "{'type': 'FeatureCollection',\n",
       " 'features': [{'type': 'Feature',\n",
       "   'properties': {'id': None},\n",
       "   'geometry': {'type': 'Polygon',\n",
       "    'coordinates': [[(-89.23433879485935, 45.051800166168285),\n",
       "      (-89.2292238498297, 45.048530661126215),\n",
       "      (-89.23466497850218, 45.04425302051409),\n",
       "      (-89.23977835284826, 45.0475356268854),\n",
       "      (-89.23977835284826, 45.0475356268854),\n",
       "      (-89.23433879485935, 45.051800166168285)]]}}],\n",
       " 'bbox': [-89.23977835284826,\n",
       "  45.04425302051409,\n",
       "  -89.2292238498297,\n",
       "  45.051800166168285]}"
      ]
     },
     "execution_count": 12,
     "metadata": {},
     "output_type": "execute_result"
    }
   ],
   "source": [
    "import shapefile\n",
    "sf = shapefile.Reader(in_shp)\n",
    "geojson=sf.__geo_interface__\n",
    "geojson"
   ]
  },
  {
   "cell_type": "code",
   "execution_count": 13,
   "id": "expensive-dancing",
   "metadata": {},
   "outputs": [],
   "source": [
    "m.add_geojson(geojson, layer_name=\"boundary\")"
   ]
  },
  {
   "cell_type": "code",
   "execution_count": null,
   "id": "extra-inquiry",
   "metadata": {},
   "outputs": [],
   "source": []
  }
 ],
 "metadata": {
  "kernelspec": {
   "display_name": "Python 3",
   "language": "python",
   "name": "python3"
  },
  "language_info": {
   "codemirror_mode": {
    "name": "ipython",
    "version": 3
   },
   "file_extension": ".py",
   "mimetype": "text/x-python",
   "name": "python",
   "nbconvert_exporter": "python",
   "pygments_lexer": "ipython3",
   "version": "3.8.8"
  }
 },
 "nbformat": 4,
 "nbformat_minor": 5
}