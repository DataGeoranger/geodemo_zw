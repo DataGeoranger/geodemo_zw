{
 "cells": [
  {
   "cell_type": "code",
   "execution_count": 1,
   "id": "increasing-avenue",
   "metadata": {},
   "outputs": [],
   "source": [
    "from geodemo_zw.utils import random_string"
   ]
  },
  {
   "cell_type": "code",
   "execution_count": 2,
   "id": "solar-morocco",
   "metadata": {},
   "outputs": [
    {
     "data": {
      "text/plain": [
       "'fycooq'"
      ]
     },
     "execution_count": 2,
     "metadata": {},
     "output_type": "execute_result"
    }
   ],
   "source": [
    "random_string(string_length=6, use_seed=False)"
   ]
  },
  {
   "cell_type": "code",
   "execution_count": 3,
   "id": "agricultural-steering",
   "metadata": {},
   "outputs": [],
   "source": [
    "import geodemo_zw"
   ]
  },
  {
   "cell_type": "code",
   "execution_count": 4,
   "id": "marked-angel",
   "metadata": {},
   "outputs": [
    {
     "data": {
      "application/vnd.jupyter.widget-view+json": {
       "model_id": "7bf38ebaccf64b9da95fa982fb465435",
       "version_major": 2,
       "version_minor": 0
      },
      "text/plain": [
       "Map(center=[45.04876893, -89.23324673], controls=(ZoomControl(options=['position', 'zoom_in_text', 'zoom_in_ti…"
      ]
     },
     "metadata": {},
     "output_type": "display_data"
    }
   ],
   "source": [
    "m = geodemo_zw.Map()\n",
    "m"
   ]
  },
  {
   "cell_type": "code",
   "execution_count": 5,
   "id": "representative-musician",
   "metadata": {},
   "outputs": [],
   "source": [
    "m.add_geojson(\"./data/us_states.geojson\")"
   ]
  },
  {
   "cell_type": "code",
   "execution_count": null,
   "id": "going-forwarding",
   "metadata": {},
   "outputs": [],
   "source": []
  }
 ],
 "metadata": {
  "kernelspec": {
   "display_name": "Python 3",
   "language": "python",
   "name": "python3"
  },
  "language_info": {
   "codemirror_mode": {
    "name": "ipython",
    "version": 3
   },
   "file_extension": ".py",
   "mimetype": "text/x-python",
   "name": "python",
   "nbconvert_exporter": "python",
   "pygments_lexer": "ipython3",
   "version": "3.8.8"
  }
 },
 "nbformat": 4,
 "nbformat_minor": 5
}
